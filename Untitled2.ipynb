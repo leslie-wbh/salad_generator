{
 "cells": [
  {
   "cell_type": "code",
   "execution_count": null,
   "metadata": {
    "collapsed": false
   },
   "outputs": [],
   "source": [
    "value_range = []\n",
    "suffix='营养素'+'_'\n",
    "for x in list(df['营养素'].drop_duplicates()):\n",
    "    value_range.extend(x.split('，'))\n",
    "value_range = Series(value_range).drop_duplicates().tolist()\n",
    "new_columns = [suffix+x for x in value_range]"
   ]
  },
  {
   "cell_type": "code",
   "execution_count": null,
   "metadata": {
    "collapsed": false
   },
   "outputs": [],
   "source": [
    "df[new_columns] = df['营养素'].head(5).apply(lambda x:split_columns(x, new_columns, suffix))"
   ]
  },
  {
   "cell_type": "code",
   "execution_count": null,
   "metadata": {
    "collapsed": false
   },
   "outputs": [],
   "source": [
    "Cato=['种类','颜色','口味','韧性','营养素']\n",
    "Cato = [x for x in Cato if x not in ['韧性','营养素']]\n",
    "print (Cato)"
   ]
  },
  {
   "cell_type": "code",
   "execution_count": null,
   "metadata": {
    "collapsed": false
   },
   "outputs": [],
   "source": [
    "# s.replace([None],'空')"
   ]
  },
  {
   "cell_type": "code",
   "execution_count": null,
   "metadata": {
    "collapsed": false
   },
   "outputs": [],
   "source": [
    "df"
   ]
  },
  {
   "cell_type": "markdown",
   "metadata": {},
   "source": [
    "# 正文"
   ]
  },
  {
   "cell_type": "code",
   "execution_count": 1,
   "metadata": {
    "collapsed": false
   },
   "outputs": [],
   "source": [
    "import pandas as pd\n",
    "from pandas import DataFrame, Series\n",
    "import numpy as np\n",
    "\n",
    "df0 = pd.read_excel('Salad.xlsx')\n",
    "df=df0\n",
    "def split_columns(value, value_range, suffix = \"\"):\n",
    "    s = Series('', index = value_range)\n",
    "    \n",
    "    for x in value.split(\"，\"):\n",
    "        s.loc[suffix + x] = 1\n",
    "    return s\n",
    "\n",
    "def funcE(df, catolog):\n",
    "    value_range = []\n",
    "    suffix=catolog+'_'\n",
    "    df.loc[pd.isnull(df[catolog]) == True,catolog]='空'\n",
    "    \n",
    "    for x in list(df[catolog].drop_duplicates()):\n",
    "        value_range.extend(x.split('，'))\n",
    "    value_range = Series(value_range).drop_duplicates().tolist()\n",
    "    new_columns = [suffix+x for x in value_range]\n",
    "    \n",
    "    df[new_columns] = df[catolog].apply(lambda x:split_columns(x, new_columns, suffix))\n",
    "    df = df.drop(catolog,axis=1)\n",
    "\n",
    "    return df, value_range\n",
    "\n",
    "Cato=['营养素','颜色','口味','韧性','种类']\n",
    "value_range_dict = {}\n",
    "for catolog in Cato:\n",
    "    df, value_range = funcE(df , catolog)\n",
    "    value_range_dict[catolog] = value_range"
   ]
  },
  {
   "cell_type": "code",
   "execution_count": 2,
   "metadata": {
    "collapsed": true
   },
   "outputs": [],
   "source": [
    "def funcE(df, catolog):\n",
    "    value_range = []\n",
    "    suffix=catolog+'_'\n",
    "    df.loc[pd.isnull(df[catolog]),catolog]='空'\n",
    "    \n",
    "    for x in list(df[catolog].drop_duplicates()):\n",
    "        value_range.extend(x.split('，'))\n",
    "    value_range = Series(value_range).drop_duplicates().tolist()\n",
    "    new_columns = [suffix+x for x in value_range]\n",
    "    \n",
    "    df[new_columns] = df[catolog].apply(lambda x:split_columns(x, new_columns, suffix))\n",
    "    df = df.drop(catolog,axis=1)\n",
    "\n",
    "    return df, value_range"
   ]
  },
  {
   "cell_type": "code",
   "execution_count": 3,
   "metadata": {
    "collapsed": false
   },
   "outputs": [],
   "source": [
    "def v_range(df):\n",
    "    Cato=['种类','颜色','口味','韧性','营养素']\n",
    "    Relationship = {}\n",
    "\n",
    "    \n",
    "    for x in Cato:\n",
    "        value_range = []\n",
    "        for y in df[x]:   \n",
    "            \n",
    "            if pd.notnull(y):\n",
    "                value_range.extend(y.split('，'))\n",
    "                \n",
    "                AA=Series(value_range).drop_duplicates()\n",
    "                \n",
    "        Relationship[x]=list(AA)\n",
    "\n",
    "    return Relationship"
   ]
  },
  {
   "cell_type": "code",
   "execution_count": 4,
   "metadata": {
    "collapsed": false
   },
   "outputs": [
    {
     "name": "stdout",
     "output_type": "stream",
     "text": [
      "{'营养素': ['纤维素', '蛋白质', '碳水化合物', '脂肪'], '口味': ['酸', '甜', '咸', '香'], '颜色': ['红', '绿', '白', '褐', '黄', '紫'], '种类': ['蔬菜', '水果', '肉类', '粮食', '辅料'], '韧性': ['中', '低', '高']}\n"
     ]
    }
   ],
   "source": [
    "print(v_range(df0))"
   ]
  },
  {
   "cell_type": "code",
   "execution_count": 5,
   "metadata": {
    "collapsed": true
   },
   "outputs": [],
   "source": [
    "def update0(mt,cato_all,cato_consist):\n",
    "    \n",
    "    #print(mt)\n",
    "    for x in cato_all:\n",
    "        \n",
    "        if mt[x].any() == 1:\n",
    "            \n",
    "            cato_consist.append(x)\n",
    "                       \n",
    "    #\n",
    "    \n",
    "    #cato_consist = list(cato_consist)\n",
    "    a = Series(cato_consist).drop_duplicates()\n",
    "    cato_consist = list(a)\n",
    "    \n",
    "    return cato_consist"
   ]
  },
  {
   "cell_type": "code",
   "execution_count": 6,
   "metadata": {
    "collapsed": false
   },
   "outputs": [
    {
     "name": "stdout",
     "output_type": "stream",
     "text": [
      "<class 'pandas.core.series.Series'>\n",
      "种类\n"
     ]
    }
   ],
   "source": [
    "Cato=['种类','颜色','口味','韧性','营养素']\n",
    "a = Series(Cato)\n",
    "print(type(a))\n",
    "print (a[0])"
   ]
  },
  {
   "cell_type": "code",
   "execution_count": null,
   "metadata": {
    "collapsed": false
   },
   "outputs": [],
   "source": [
    "set([1,2]) == set([2,1,3])"
   ]
  },
  {
   "cell_type": "code",
   "execution_count": 26,
   "metadata": {
    "collapsed": false
   },
   "outputs": [],
   "source": [
    "def SeleF(df):\n",
    "    Cato=['种类','颜色','口味','韧性','营养素']\n",
    "    Relationship=v_range(df0)\n",
    "    cato_all = list(df.columns)\n",
    "    cato_consist = []\n",
    "    SIGN = 0\n",
    "    \n",
    "    [cato_all.remove(x) for x in ['食材','分数','口味_空','种类_空']]\n",
    "    #print (cato_all)\n",
    "    \n",
    "    for x in Cato:\n",
    "        for y in Relationship[x]:\n",
    "            mt = choose_one_max(df,y,x)\n",
    "            print(mt['食材'])\n",
    "            a = update0(mt,cato_all,cato_consist)\n",
    "           \n",
    "            print((a),(cato_all))\n",
    "            print(len(a),len(cato_all))\n",
    "            if set(a) == set(cato_all):\n",
    "                print(MT)\n",
    "                SIGN = 1\n",
    "                break\n",
    "        if SIGN == 1:\n",
    "            break\n",
    "            "
   ]
  },
  {
   "cell_type": "code",
   "execution_count": 34,
   "metadata": {
    "collapsed": false
   },
   "outputs": [],
   "source": [
    "def choose_one_max(df,sub_cato,Cato):\n",
    "    a = df[df[Cato + '_' + sub_cato]==1]\n",
    "    #change_data(df,a)\n",
    "    #print(Cato + '_' + sub_cato)\n",
    "    #return a[a['分数']==a['分数'].max()].sample(n=1)\n",
    "    print (a[a['分数']==a['分数'].max()].sample(n=1))\n",
    "    "
   ]
  },
  {
   "cell_type": "code",
   "execution_count": 35,
   "metadata": {
    "collapsed": false
   },
   "outputs": [
    {
     "name": "stdout",
     "output_type": "stream",
     "text": [
      "     食材  分数 营养素_纤维素 营养素_蛋白质 营养素_碳水化合物 营养素_脂肪 颜色_红 颜色_绿 颜色_白 颜色_褐  ...  口味_香  \\\n",
      "23  煮藜麦  10               1         1                          1  ...         \n",
      "\n",
      "   韧性_中 韧性_低 韧性_高 种类_蔬菜 种类_水果 种类_空 种类_肉类 种类_粮食 种类_辅料  \n",
      "23    1                                      1        \n",
      "\n",
      "[1 rows x 26 columns]\n"
     ]
    }
   ],
   "source": [
    "choose_one_max(df,'蛋白质','营养素')"
   ]
  },
  {
   "cell_type": "code",
   "execution_count": 36,
   "metadata": {
    "collapsed": true
   },
   "outputs": [],
   "source": [
    "def update1(df,mt,cato_all):\n",
    "    cato_consist = []\n",
    "    \n",
    "    #print(mt)\n",
    "    for x in cato_all:\n",
    "        \n",
    "        if mt[x] == 1:\n",
    "            \n",
    "            cato_consist.append(x)\n",
    "                       \n",
    "    #\n",
    "    \n",
    "    #cato_consist = list(cato_consist)\n",
    "    a = Series(cato_consist).drop_duplicates()\n",
    "    cato_consist = list(a)\n",
    "    \n",
    "    #print(cato_consist)\n",
    "    return cato_consist"
   ]
  },
  {
   "cell_type": "code",
   "execution_count": null,
   "metadata": {
    "collapsed": true
   },
   "outputs": [],
   "source": []
  },
  {
   "cell_type": "code",
   "execution_count": 33,
   "metadata": {
    "collapsed": true
   },
   "outputs": [],
   "source": [
    "def attribute_data(df,mt):\n",
    "    cato_all = list(df.columns)\n",
    "    [cato_all.remove(x) for x in ['食材','分数','口味_空','种类_空']]\n",
    "    #print (cato_all)\n",
    "    a = update1(df,mt,cato_all)\n",
    "    #print (a)\n",
    "    return a"
   ]
  },
  {
   "cell_type": "code",
   "execution_count": 23,
   "metadata": {
    "collapsed": false
   },
   "outputs": [
    {
     "data": {
      "text/plain": [
       "['营养素_纤维素', '颜色_红', '口味_酸', '韧性_中', '种类_蔬菜']"
      ]
     },
     "execution_count": 23,
     "metadata": {},
     "output_type": "execute_result"
    }
   ],
   "source": [
    "#print(df.iloc[0])\n",
    "attribute_data(df,df.iloc[0])"
   ]
  },
  {
   "cell_type": "code",
   "execution_count": 24,
   "metadata": {
    "collapsed": false
   },
   "outputs": [
    {
     "ename": "SyntaxError",
     "evalue": "unexpected EOF while parsing (<ipython-input-24-3875140ba10f>, line 2)",
     "output_type": "error",
     "traceback": [
      "\u001b[1;36m  File \u001b[1;32m\"<ipython-input-24-3875140ba10f>\"\u001b[1;36m, line \u001b[1;32m2\u001b[0m\n\u001b[1;33m    \u001b[0m\n\u001b[1;37m    ^\u001b[0m\n\u001b[1;31mSyntaxError\u001b[0m\u001b[1;31m:\u001b[0m unexpected EOF while parsing\n"
     ]
    }
   ],
   "source": [
    "def change_data(df,mt):\n",
    "    "
   ]
  },
  {
   "cell_type": "code",
   "execution_count": 37,
   "metadata": {
    "collapsed": false
   },
   "outputs": [
    {
     "name": "stdout",
     "output_type": "stream",
     "text": [
      "   食材  分数 营养素_纤维素 营养素_蛋白质 营养素_碳水化合物 营养素_脂肪 颜色_红 颜色_绿 颜色_白 颜色_褐  ...  口味_香  \\\n",
      "1  生菜  10       1                                  1            ...         \n",
      "\n",
      "  韧性_中 韧性_低 韧性_高 种类_蔬菜 种类_水果 种类_空 种类_肉类 种类_粮食 种类_辅料  \n",
      "1         1          1                               \n",
      "\n",
      "[1 rows x 26 columns]\n"
     ]
    },
    {
     "ename": "TypeError",
     "evalue": "'NoneType' object is not subscriptable",
     "output_type": "error",
     "traceback": [
      "\u001b[1;31m---------------------------------------------------------------------------\u001b[0m",
      "\u001b[1;31mTypeError\u001b[0m                                 Traceback (most recent call last)",
      "\u001b[1;32m<ipython-input-37-ba037256b845>\u001b[0m in \u001b[0;36m<module>\u001b[1;34m()\u001b[0m\n\u001b[1;32m----> 1\u001b[1;33m \u001b[0mSeleF\u001b[0m\u001b[1;33m(\u001b[0m\u001b[0mdf\u001b[0m\u001b[1;33m)\u001b[0m\u001b[1;33m\u001b[0m\u001b[0m\n\u001b[0m",
      "\u001b[1;32m<ipython-input-26-c4c068eddcbf>\u001b[0m in \u001b[0;36mSeleF\u001b[1;34m(df)\u001b[0m\n\u001b[0;32m     12\u001b[0m         \u001b[1;32mfor\u001b[0m \u001b[0my\u001b[0m \u001b[1;32min\u001b[0m \u001b[0mRelationship\u001b[0m\u001b[1;33m[\u001b[0m\u001b[0mx\u001b[0m\u001b[1;33m]\u001b[0m\u001b[1;33m:\u001b[0m\u001b[1;33m\u001b[0m\u001b[0m\n\u001b[0;32m     13\u001b[0m             \u001b[0mmt\u001b[0m \u001b[1;33m=\u001b[0m \u001b[0mchoose_one_max\u001b[0m\u001b[1;33m(\u001b[0m\u001b[0mdf\u001b[0m\u001b[1;33m,\u001b[0m\u001b[0my\u001b[0m\u001b[1;33m,\u001b[0m\u001b[0mx\u001b[0m\u001b[1;33m)\u001b[0m\u001b[1;33m\u001b[0m\u001b[0m\n\u001b[1;32m---> 14\u001b[1;33m             \u001b[0mprint\u001b[0m\u001b[1;33m(\u001b[0m\u001b[0mmt\u001b[0m\u001b[1;33m[\u001b[0m\u001b[1;34m'食材'\u001b[0m\u001b[1;33m]\u001b[0m\u001b[1;33m)\u001b[0m\u001b[1;33m\u001b[0m\u001b[0m\n\u001b[0m\u001b[0;32m     15\u001b[0m             \u001b[0ma\u001b[0m \u001b[1;33m=\u001b[0m \u001b[0mupdate0\u001b[0m\u001b[1;33m(\u001b[0m\u001b[0mmt\u001b[0m\u001b[1;33m,\u001b[0m\u001b[0mcato_all\u001b[0m\u001b[1;33m,\u001b[0m\u001b[0mcato_consist\u001b[0m\u001b[1;33m)\u001b[0m\u001b[1;33m\u001b[0m\u001b[0m\n\u001b[0;32m     16\u001b[0m \u001b[1;33m\u001b[0m\u001b[0m\n",
      "\u001b[1;31mTypeError\u001b[0m: 'NoneType' object is not subscriptable"
     ]
    }
   ],
   "source": [
    "SeleF(df)"
   ]
  },
  {
   "cell_type": "code",
   "execution_count": null,
   "metadata": {
    "collapsed": true
   },
   "outputs": [],
   "source": []
  }
 ],
 "metadata": {
  "kernelspec": {
   "display_name": "Python 3",
   "language": "python",
   "name": "python3"
  },
  "language_info": {
   "codemirror_mode": {
    "name": "ipython",
    "version": 3
   },
   "file_extension": ".py",
   "mimetype": "text/x-python",
   "name": "python",
   "nbconvert_exporter": "python",
   "pygments_lexer": "ipython3",
   "version": "3.5.0"
  }
 },
 "nbformat": 4,
 "nbformat_minor": 0
}
