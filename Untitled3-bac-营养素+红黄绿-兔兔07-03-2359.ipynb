{
 "cells": [
  {
   "cell_type": "code",
   "execution_count": 1,
   "metadata": {
    "collapsed": true
   },
   "outputs": [],
   "source": [
    "import pandas as pd\n",
    "from pandas import DataFrame, Series\n",
    "import numpy as np\n",
    "\n",
    "df0 = pd.read_excel('Salad.xlsx')\n",
    "df = df0\n",
    "def split_columns(value, value_range, suffix = \"\"):\n",
    "    s = Series('', index = value_range)\n",
    "    \n",
    "    for x in value.split(\"，\"):\n",
    "        s.loc[suffix + x] = 1\n",
    "    return s\n",
    "\n",
    "def funcE(df, catolog):\n",
    "    value_range = []\n",
    "    suffix=catolog+'_'\n",
    "    df.loc[pd.isnull(df[catolog]) == True,catolog]='空'\n",
    "    \n",
    "    for x in list(df[catolog].drop_duplicates()):\n",
    "        value_range.extend(x.split('，'))\n",
    "    value_range = Series(value_range).drop_duplicates().tolist()\n",
    "    new_columns = [suffix+x for x in value_range]\n",
    "    \n",
    "    df[new_columns] = df[catolog].apply(lambda x:split_columns(x, new_columns, suffix))\n",
    "    df = df.drop(catolog,axis=1)\n",
    "\n",
    "    return df, value_range\n",
    "\n",
    "Cato=['营养素','颜色','口味','韧性','种类']\n",
    "value_range_dict = {}\n",
    "for catolog in Cato:\n",
    "    df, value_range = funcE(df , catolog)\n",
    "    value_range_dict[catolog] = value_range"
   ]
  },
  {
   "cell_type": "code",
   "execution_count": 2,
   "metadata": {
    "collapsed": true
   },
   "outputs": [],
   "source": [
    "def funcE(df, catolog):\n",
    "    value_range = []\n",
    "    suffix=catolog+'_'\n",
    "    df.loc[pd.isnull(df[catolog]),catolog]='空'\n",
    "    \n",
    "    for x in list(df[catolog].drop_duplicates()):\n",
    "        value_range.extend(x.split('，'))\n",
    "    value_range = Series(value_range).drop_duplicates().tolist()\n",
    "    new_columns = [suffix+x for x in value_range]\n",
    "    \n",
    "    df[new_columns] = df[catolog].apply(lambda x:split_columns(x, new_columns, suffix))\n",
    "    df = df.drop(catolog,axis=1)\n",
    "\n",
    "    return df, value_range"
   ]
  },
  {
   "cell_type": "code",
   "execution_count": 3,
   "metadata": {
    "collapsed": true
   },
   "outputs": [],
   "source": [
    "def v_range(df):\n",
    "    Cato=['种类','颜色','口味','韧性','营养素']\n",
    "    Relationship = {}\n",
    "\n",
    "    \n",
    "    for x in Cato:\n",
    "        value_range = []\n",
    "        for y in df[x]:   \n",
    "            \n",
    "            if pd.notnull(y):\n",
    "                value_range.extend(y.split('，'))\n",
    "                \n",
    "                AA=Series(value_range).drop_duplicates()\n",
    "                \n",
    "        Relationship[x]=list(AA)\n",
    "\n",
    "    return Relationship"
   ]
  },
  {
   "cell_type": "code",
   "execution_count": 4,
   "metadata": {
    "collapsed": false
   },
   "outputs": [
    {
     "name": "stdout",
     "output_type": "stream",
     "text": [
      "{'口味': ['酸', '甜', '咸', '香'], '营养素': ['纤维素', '蛋白质', '碳水化合物', '脂肪'], '种类': ['蔬菜', '水果', '肉类', '粮食', '辅料'], '韧性': ['中', '低', '高'], '颜色': ['红', '绿', '白', '褐', '黄', '紫']}\n"
     ]
    }
   ],
   "source": [
    "print(v_range(df0))"
   ]
  },
  {
   "cell_type": "code",
   "execution_count": 5,
   "metadata": {
    "collapsed": true
   },
   "outputs": [],
   "source": [
    "def update0(mt,cato_all,cato_consist):\n",
    "    \n",
    "    #print(mt)\n",
    "    for x in cato_all:\n",
    "        \n",
    "        if mt[x].any() == 1:\n",
    "            \n",
    "            cato_consist.append(x)\n",
    "                       \n",
    "    #\n",
    "    \n",
    "    #cato_consist = list(cato_consist)\n",
    "    a = Series(cato_consist).drop_duplicates()\n",
    "    cato_consist = list(a)\n",
    "    \n",
    "    return cato_consist"
   ]
  },
  {
   "cell_type": "markdown",
   "metadata": {
    "collapsed": true
   },
   "source": [
    "def SeleF(df):\n",
    "    Cato=['种类','颜色','口味','韧性','营养素']\n",
    "    Relationship=v_range(df0)\n",
    "    cato_all = list(df.columns)\n",
    "    cato_consist = []\n",
    "    SIGN = 0\n",
    "    \n",
    "    [cato_all.remove(x) for x in ['食材','分数','口味_空','种类_空']]\n",
    "    #print (cato_all)\n",
    "    \n",
    "    for x in Cato:\n",
    "        for y in Relationship[x]:\n",
    "            mt = choose_one_max(df,y,x)\n",
    "            print(mt['食材'])\n",
    "            df = change_data(df,mt)\n",
    "            a = update0(mt,cato_all,cato_consist)\n",
    "           \n",
    "            #print((a),(cato_all))\n",
    "            print(len(a),len(cato_all))\n",
    "            if set(a) == set(cato_all):\n",
    "                #print(MT)\n",
    "                SIGN = 1\n",
    "                print('#####')\n",
    "                break\n",
    "        if SIGN == 1:\n",
    "            break\n",
    "            "
   ]
  },
  {
   "cell_type": "code",
   "execution_count": 6,
   "metadata": {
    "collapsed": true
   },
   "outputs": [],
   "source": [
    "def SeleF(df):\n",
    "    Cato=['种类','颜色','口味','韧性','营养素']\n",
    "    Relationship=v_range(df0)\n",
    "    cato_all = ['营养素_蛋白质','营养素_纤维素','营养素_脂肪','颜色_红','颜色_黄','颜色_绿']\n",
    "    cato_consist = []\n",
    "    SIGN = 0\n",
    "    result = []\n",
    "    \n",
    "    #[cato_all.remove(x) for x in ['食材','分数','口味_空','种类_空']]\n",
    "    #print (cato_all)\n",
    "    \n",
    "    for x in Cato:\n",
    "        for y in Relationship[x]:\n",
    "            mt = choose_one_max(df,y,x)\n",
    "            #print(mt['食材'])\n",
    "            result.append( list (mt['食材'])[0])\n",
    "            #print('分数是' + list(mt['分数'])[0])\n",
    "            df = change_data(df,mt)\n",
    "            a = update0(mt,cato_all,cato_consist)\n",
    "           \n",
    "            #print((a),(cato_all))\n",
    "            # print(len(a),len(cato_all))\n",
    "            if set(a) == set(cato_all):\n",
    "                #print(MT)\n",
    "                SIGN = 1\n",
    "                #print('#####')\n",
    "                break\n",
    "        if SIGN == 1:\n",
    "            break\n",
    "    return result"
   ]
  },
  {
   "cell_type": "code",
   "execution_count": 7,
   "metadata": {
    "collapsed": true
   },
   "outputs": [],
   "source": [
    "def choose_one_max(df,sub_cato,Cato):\n",
    "    a = df[df[Cato + '_' + sub_cato]==1]\n",
    "\n",
    "    #print(Cato + '_' + sub_cato)\n",
    "    return a[a['分数']==a['分数'].max()].sample(n=1)\n",
    "    #print (a[a['分数']==a['分数'].max()].sample(n=1))\n",
    "    "
   ]
  },
  {
   "cell_type": "markdown",
   "metadata": {
    "collapsed": true
   },
   "source": [
    "def change_data(df,mt):\n",
    "    cato_all = list(df.columns)\n",
    "    [cato_all.remove(x) for x in ['食材','分数','口味_空','种类_空']]\n",
    "    cato_consist = []\n",
    "\n",
    "    update1(df,mt,cato_all,cato_consist)\n",
    "    cato_consist = update1(df,mt,cato_all,cato_consist)\n",
    "    #print (cato_consist)\n",
    "    return cato_consist"
   ]
  },
  {
   "cell_type": "markdown",
   "metadata": {},
   "source": [
    "a = ['a','b','c']\n",
    "\n",
    "for index, item in enumerate(a):\n",
    "    print(index, item)\n",
    "    \n",
    "for i in range(len(a)):\n",
    "    item = a[i]\n",
    "    print(i, item)"
   ]
  },
  {
   "cell_type": "code",
   "execution_count": 8,
   "metadata": {
    "collapsed": false
   },
   "outputs": [],
   "source": [
    "def change_data(df,mt):\n",
    "    cato_all = ['营养素_蛋白质','营养素_纤维素','营养素_脂肪','颜色_红','颜色_黄','颜色_绿']\n",
    "    #cato_all = list(df.columns)\n",
    "    #[cato_all.remove(x) for x in ['食材','分数','口味_空','种类_空']]\n",
    "    cato_consist = []\n",
    "    mt_name = list(mt['食材'])[0]\n",
    "    \n",
    "    update1(df,mt,cato_all,cato_consist)\n",
    "    cato_consist = update1(df,mt,cato_all,cato_consist)\n",
    "    #print (cato_consist)\n",
    "    for x in cato_consist:\n",
    "        if x != '营养素_蛋白质':\n",
    "            df.loc[df[x] == 1,'分数'] = df.loc[df[x] == 1,'分数'] - 1\n",
    "        else:\n",
    "            df.loc[df[x] == 1,'分数'] = df.loc[df[x] == 1,'分数'] - 5\n",
    "        \n",
    "        \n",
    "        break\n",
    "    df = df[df['食材'] != mt_name]\n",
    "    #df2 = df[df['食材']!='小番茄']\n",
    "    \n",
    "    return df"
   ]
  },
  {
   "cell_type": "code",
   "execution_count": 9,
   "metadata": {
    "collapsed": true
   },
   "outputs": [],
   "source": [
    "def update1(df,mt,cato_all,cato_consist):\n",
    "    #cato_consist = []\n",
    "    #print(mt)\n",
    "    for x in cato_all:\n",
    "        \n",
    "        if mt[x].any() == 1:\n",
    "            \n",
    "            cato_consist.append(x)\n",
    "               \n",
    "    b = Series(cato_consist).drop_duplicates()\n",
    "    a=list(b)\n",
    "    [a.remove(x) for x in ['食材','分数','口味_空','种类_空'] if x in a]\n",
    "    cato_consist = a\n",
    "    #print(cato_consist)\n",
    "    return cato_consist"
   ]
  },
  {
   "cell_type": "code",
   "execution_count": 10,
   "metadata": {
    "collapsed": false
   },
   "outputs": [
    {
     "name": "stdout",
     "output_type": "stream",
     "text": [
      "###\n"
     ]
    }
   ],
   "source": [
    "a = df[df['种类_蔬菜']==1]\n",
    "b = a[a['分数']==a['分数'].max()].sample(n=1)\n",
    "\n",
    "change_data(df,b)\n",
    "print('###')"
   ]
  },
  {
   "cell_type": "code",
   "execution_count": 11,
   "metadata": {
    "collapsed": false
   },
   "outputs": [
    {
     "name": "stderr",
     "output_type": "stream",
     "text": [
      "/home/exolution/anaconda3/lib/python3.5/site-packages/pandas/core/indexing.py:426: SettingWithCopyWarning: \n",
      "A value is trying to be set on a copy of a slice from a DataFrame.\n",
      "Try using .loc[row_indexer,col_indexer] = value instead\n",
      "\n",
      "See the caveats in the documentation: http://pandas.pydata.org/pandas-docs/stable/indexing.html#indexing-view-versus-copy\n",
      "  self.obj[item] = s\n"
     ]
    }
   ],
   "source": [
    "material_list = SeleF(df)\n",
    "result_df = df.set_index('食材').reindex(material_list)"
   ]
  },
  {
   "cell_type": "code",
   "execution_count": 12,
   "metadata": {
    "collapsed": false
   },
   "outputs": [
    {
     "name": "stdout",
     "output_type": "stream",
     "text": [
      "['酸黄瓜', '橙肉', '煎牛肉(切丁)', '甜玉米', '牛油果', '小番茄']\n"
     ]
    }
   ],
   "source": [
    "print(material_list)"
   ]
  },
  {
   "cell_type": "code",
   "execution_count": null,
   "metadata": {
    "collapsed": true
   },
   "outputs": [],
   "source": []
  }
 ],
 "metadata": {
  "kernelspec": {
   "display_name": "Python 3",
   "language": "python",
   "name": "python3"
  },
  "language_info": {
   "codemirror_mode": {
    "name": "ipython",
    "version": 3
   },
   "file_extension": ".py",
   "mimetype": "text/x-python",
   "name": "python",
   "nbconvert_exporter": "python",
   "pygments_lexer": "ipython3",
   "version": "3.5.0"
  }
 },
 "nbformat": 4,
 "nbformat_minor": 0
}
