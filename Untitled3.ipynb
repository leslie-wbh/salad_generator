{
 "cells": [
  {
   "cell_type": "code",
   "execution_count": 1,
   "metadata": {
    "collapsed": true
   },
   "outputs": [],
   "source": [
    "import pandas as pd\n",
    "from pandas import DataFrame, Series\n",
    "import numpy as np\n",
    "\n",
    "df0 = pd.read_excel('Salad.xlsx')\n",
    "df=df0\n",
    "def split_columns(value, value_range, suffix = \"\"):\n",
    "    s = Series('', index = value_range)\n",
    "    \n",
    "    for x in value.split(\"，\"):\n",
    "        s.loc[suffix + x] = 1\n",
    "    return s\n",
    "\n",
    "def funcE(df, catolog):\n",
    "    value_range = []\n",
    "    suffix=catolog+'_'\n",
    "    df.loc[pd.isnull(df[catolog]) == True,catolog]='空'\n",
    "    \n",
    "    for x in list(df[catolog].drop_duplicates()):\n",
    "        value_range.extend(x.split('，'))\n",
    "    value_range = Series(value_range).drop_duplicates().tolist()\n",
    "    new_columns = [suffix+x for x in value_range]\n",
    "    \n",
    "    df[new_columns] = df[catolog].apply(lambda x:split_columns(x, new_columns, suffix))\n",
    "    df = df.drop(catolog,axis=1)\n",
    "\n",
    "    return df, value_range\n",
    "\n",
    "Cato=['营养素','颜色','口味','韧性','种类']\n",
    "value_range_dict = {}\n",
    "for catolog in Cato:\n",
    "    df, value_range = funcE(df , catolog)\n",
    "    value_range_dict[catolog] = value_range"
   ]
  },
  {
   "cell_type": "code",
   "execution_count": 2,
   "metadata": {
    "collapsed": true
   },
   "outputs": [],
   "source": [
    "def funcE(df, catolog):\n",
    "    value_range = []\n",
    "    suffix=catolog+'_'\n",
    "    df.loc[pd.isnull(df[catolog]),catolog]='空'\n",
    "    \n",
    "    for x in list(df[catolog].drop_duplicates()):\n",
    "        value_range.extend(x.split('，'))\n",
    "    value_range = Series(value_range).drop_duplicates().tolist()\n",
    "    new_columns = [suffix+x for x in value_range]\n",
    "    \n",
    "    df[new_columns] = df[catolog].apply(lambda x:split_columns(x, new_columns, suffix))\n",
    "    df = df.drop(catolog,axis=1)\n",
    "\n",
    "    return df, value_range"
   ]
  },
  {
   "cell_type": "code",
   "execution_count": 3,
   "metadata": {
    "collapsed": true
   },
   "outputs": [],
   "source": [
    "def v_range(df):\n",
    "    Cato=['种类','颜色','口味','韧性','营养素']\n",
    "    Relationship = {}\n",
    "\n",
    "    \n",
    "    for x in Cato:\n",
    "        value_range = []\n",
    "        for y in df[x]:   \n",
    "            \n",
    "            if pd.notnull(y):\n",
    "                value_range.extend(y.split('，'))\n",
    "                \n",
    "                AA=Series(value_range).drop_duplicates()\n",
    "                \n",
    "        Relationship[x]=list(AA)\n",
    "\n",
    "    return Relationship"
   ]
  },
  {
   "cell_type": "code",
   "execution_count": 4,
   "metadata": {
    "collapsed": false
   },
   "outputs": [
    {
     "name": "stdout",
     "output_type": "stream",
     "text": [
      "{'营养素': ['纤维素', '蛋白质', '碳水化合物', '脂肪'], '口味': ['酸', '甜', '咸', '香'], '种类': ['蔬菜', '水果', '肉类', '粮食', '辅料'], '颜色': ['红', '绿', '白', '褐', '黄', '紫'], '韧性': ['中', '低', '高']}\n"
     ]
    }
   ],
   "source": [
    "print(v_range(df0))"
   ]
  },
  {
   "cell_type": "code",
   "execution_count": 5,
   "metadata": {
    "collapsed": true
   },
   "outputs": [],
   "source": [
    "def update0(mt,cato_all,cato_consist):\n",
    "    \n",
    "    #print(mt)\n",
    "    for x in cato_all:\n",
    "        \n",
    "        if mt[x].any() == 1:\n",
    "            \n",
    "            cato_consist.append(x)\n",
    "                       \n",
    "    #\n",
    "    \n",
    "    #cato_consist = list(cato_consist)\n",
    "    a = Series(cato_consist).drop_duplicates()\n",
    "    cato_consist = list(a)\n",
    "    \n",
    "    return cato_consist"
   ]
  },
  {
   "cell_type": "code",
   "execution_count": 43,
   "metadata": {
    "collapsed": true
   },
   "outputs": [],
   "source": [
    "def SeleF(df):\n",
    "    Cato=['种类','颜色','口味','韧性','营养素']\n",
    "    Relationship=v_range(df0)\n",
    "    cato_all = list(df.columns)\n",
    "    cato_consist = []\n",
    "    SIGN = 0\n",
    "    \n",
    "    [cato_all.remove(x) for x in ['食材','分数','口味_空','种类_空']]\n",
    "    #print (cato_all)\n",
    "    \n",
    "    for x in Cato:\n",
    "        for y in Relationship[x]:\n",
    "            mt = choose_one_max(df,y,x)\n",
    "            print(mt['食材'])\n",
    "            a = update0(mt,cato_all,cato_consist)\n",
    "           \n",
    "            #print((a),(cato_all))\n",
    "            print(len(a),len(cato_all))\n",
    "            if set(a) == set(cato_all):\n",
    "                #print(MT)\n",
    "                SIGN = 1\n",
    "                print('#####')\n",
    "                break\n",
    "        if SIGN == 1:\n",
    "            break\n",
    "            "
   ]
  },
  {
   "cell_type": "code",
   "execution_count": 47,
   "metadata": {
    "collapsed": true
   },
   "outputs": [],
   "source": [
    "def choose_one_max(df,sub_cato,Cato):\n",
    "    a = df[df[Cato + '_' + sub_cato]==1]\n",
    "    #change_data(df,a)\n",
    "    #print(Cato + '_' + sub_cato)\n",
    "    return a[a['分数']==a['分数'].max()].sample(n=1)\n",
    "    #print (a[a['分数']==a['分数'].max()].sample(n=1))\n",
    "    "
   ]
  },
  {
   "cell_type": "code",
   "execution_count": 48,
   "metadata": {
    "collapsed": true
   },
   "outputs": [],
   "source": [
    "def change_data(df,mt):\n",
    "    cato_all = list(df.columns)\n",
    "    [cato_all.remove(x) for x in ['食材','分数','口味_空','种类_空']]\n",
    "    #print (cato_all)\n",
    "    a = update1(df,mt,cato_all)\n",
    "    print (a)\n",
    "    #return a"
   ]
  },
  {
   "cell_type": "code",
   "execution_count": 49,
   "metadata": {
    "collapsed": false
   },
   "outputs": [
    {
     "ename": "NameError",
     "evalue": "name 'update1' is not defined",
     "output_type": "error",
     "traceback": [
      "\u001b[1;31m---------------------------------------------------------------------------\u001b[0m",
      "\u001b[1;31mNameError\u001b[0m                                 Traceback (most recent call last)",
      "\u001b[1;32m<ipython-input-49-ba037256b845>\u001b[0m in \u001b[0;36m<module>\u001b[1;34m()\u001b[0m\n\u001b[1;32m----> 1\u001b[1;33m \u001b[0mSeleF\u001b[0m\u001b[1;33m(\u001b[0m\u001b[0mdf\u001b[0m\u001b[1;33m)\u001b[0m\u001b[1;33m\u001b[0m\u001b[0m\n\u001b[0m",
      "\u001b[1;32m<ipython-input-43-9e50981f3d63>\u001b[0m in \u001b[0;36mSeleF\u001b[1;34m(df)\u001b[0m\n\u001b[0;32m     11\u001b[0m     \u001b[1;32mfor\u001b[0m \u001b[0mx\u001b[0m \u001b[1;32min\u001b[0m \u001b[0mCato\u001b[0m\u001b[1;33m:\u001b[0m\u001b[1;33m\u001b[0m\u001b[0m\n\u001b[0;32m     12\u001b[0m         \u001b[1;32mfor\u001b[0m \u001b[0my\u001b[0m \u001b[1;32min\u001b[0m \u001b[0mRelationship\u001b[0m\u001b[1;33m[\u001b[0m\u001b[0mx\u001b[0m\u001b[1;33m]\u001b[0m\u001b[1;33m:\u001b[0m\u001b[1;33m\u001b[0m\u001b[0m\n\u001b[1;32m---> 13\u001b[1;33m             \u001b[0mmt\u001b[0m \u001b[1;33m=\u001b[0m \u001b[0mchoose_one_max\u001b[0m\u001b[1;33m(\u001b[0m\u001b[0mdf\u001b[0m\u001b[1;33m,\u001b[0m\u001b[0my\u001b[0m\u001b[1;33m,\u001b[0m\u001b[0mx\u001b[0m\u001b[1;33m)\u001b[0m\u001b[1;33m\u001b[0m\u001b[0m\n\u001b[0m\u001b[0;32m     14\u001b[0m             \u001b[0mprint\u001b[0m\u001b[1;33m(\u001b[0m\u001b[0mmt\u001b[0m\u001b[1;33m[\u001b[0m\u001b[1;34m'食材'\u001b[0m\u001b[1;33m]\u001b[0m\u001b[1;33m)\u001b[0m\u001b[1;33m\u001b[0m\u001b[0m\n\u001b[0;32m     15\u001b[0m             \u001b[0ma\u001b[0m \u001b[1;33m=\u001b[0m \u001b[0mupdate0\u001b[0m\u001b[1;33m(\u001b[0m\u001b[0mmt\u001b[0m\u001b[1;33m,\u001b[0m\u001b[0mcato_all\u001b[0m\u001b[1;33m,\u001b[0m\u001b[0mcato_consist\u001b[0m\u001b[1;33m)\u001b[0m\u001b[1;33m\u001b[0m\u001b[0m\n",
      "\u001b[1;32m<ipython-input-47-fc7b3346c128>\u001b[0m in \u001b[0;36mchoose_one_max\u001b[1;34m(df, sub_cato, Cato)\u001b[0m\n\u001b[0;32m      1\u001b[0m \u001b[1;32mdef\u001b[0m \u001b[0mchoose_one_max\u001b[0m\u001b[1;33m(\u001b[0m\u001b[0mdf\u001b[0m\u001b[1;33m,\u001b[0m\u001b[0msub_cato\u001b[0m\u001b[1;33m,\u001b[0m\u001b[0mCato\u001b[0m\u001b[1;33m)\u001b[0m\u001b[1;33m:\u001b[0m\u001b[1;33m\u001b[0m\u001b[0m\n\u001b[0;32m      2\u001b[0m     \u001b[0ma\u001b[0m \u001b[1;33m=\u001b[0m \u001b[0mdf\u001b[0m\u001b[1;33m[\u001b[0m\u001b[0mdf\u001b[0m\u001b[1;33m[\u001b[0m\u001b[0mCato\u001b[0m \u001b[1;33m+\u001b[0m \u001b[1;34m'_'\u001b[0m \u001b[1;33m+\u001b[0m \u001b[0msub_cato\u001b[0m\u001b[1;33m]\u001b[0m\u001b[1;33m==\u001b[0m\u001b[1;36m1\u001b[0m\u001b[1;33m]\u001b[0m\u001b[1;33m\u001b[0m\u001b[0m\n\u001b[1;32m----> 3\u001b[1;33m     \u001b[0mchange_data\u001b[0m\u001b[1;33m(\u001b[0m\u001b[0mdf\u001b[0m\u001b[1;33m,\u001b[0m\u001b[0ma\u001b[0m\u001b[1;33m)\u001b[0m\u001b[1;33m\u001b[0m\u001b[0m\n\u001b[0m\u001b[0;32m      4\u001b[0m     \u001b[1;31m#print(Cato + '_' + sub_cato)\u001b[0m\u001b[1;33m\u001b[0m\u001b[1;33m\u001b[0m\u001b[0m\n\u001b[0;32m      5\u001b[0m     \u001b[1;32mreturn\u001b[0m \u001b[0ma\u001b[0m\u001b[1;33m[\u001b[0m\u001b[0ma\u001b[0m\u001b[1;33m[\u001b[0m\u001b[1;34m'分数'\u001b[0m\u001b[1;33m]\u001b[0m\u001b[1;33m==\u001b[0m\u001b[0ma\u001b[0m\u001b[1;33m[\u001b[0m\u001b[1;34m'分数'\u001b[0m\u001b[1;33m]\u001b[0m\u001b[1;33m.\u001b[0m\u001b[0mmax\u001b[0m\u001b[1;33m(\u001b[0m\u001b[1;33m)\u001b[0m\u001b[1;33m]\u001b[0m\u001b[1;33m.\u001b[0m\u001b[0msample\u001b[0m\u001b[1;33m(\u001b[0m\u001b[0mn\u001b[0m\u001b[1;33m=\u001b[0m\u001b[1;36m1\u001b[0m\u001b[1;33m)\u001b[0m\u001b[1;33m\u001b[0m\u001b[0m\n",
      "\u001b[1;32m<ipython-input-48-7cf939f575c1>\u001b[0m in \u001b[0;36mchange_data\u001b[1;34m(df, mt)\u001b[0m\n\u001b[0;32m      3\u001b[0m     \u001b[1;33m[\u001b[0m\u001b[0mcato_all\u001b[0m\u001b[1;33m.\u001b[0m\u001b[0mremove\u001b[0m\u001b[1;33m(\u001b[0m\u001b[0mx\u001b[0m\u001b[1;33m)\u001b[0m \u001b[1;32mfor\u001b[0m \u001b[0mx\u001b[0m \u001b[1;32min\u001b[0m \u001b[1;33m[\u001b[0m\u001b[1;34m'食材'\u001b[0m\u001b[1;33m,\u001b[0m\u001b[1;34m'分数'\u001b[0m\u001b[1;33m,\u001b[0m\u001b[1;34m'口味_空'\u001b[0m\u001b[1;33m,\u001b[0m\u001b[1;34m'种类_空'\u001b[0m\u001b[1;33m]\u001b[0m\u001b[1;33m]\u001b[0m\u001b[1;33m\u001b[0m\u001b[0m\n\u001b[0;32m      4\u001b[0m     \u001b[1;31m#print (cato_all)\u001b[0m\u001b[1;33m\u001b[0m\u001b[1;33m\u001b[0m\u001b[0m\n\u001b[1;32m----> 5\u001b[1;33m     \u001b[0ma\u001b[0m \u001b[1;33m=\u001b[0m \u001b[0mupdate1\u001b[0m\u001b[1;33m(\u001b[0m\u001b[0mdf\u001b[0m\u001b[1;33m,\u001b[0m\u001b[0mmt\u001b[0m\u001b[1;33m,\u001b[0m\u001b[0mcato_all\u001b[0m\u001b[1;33m)\u001b[0m\u001b[1;33m\u001b[0m\u001b[0m\n\u001b[0m\u001b[0;32m      6\u001b[0m     \u001b[0mprint\u001b[0m \u001b[1;33m(\u001b[0m\u001b[0ma\u001b[0m\u001b[1;33m)\u001b[0m\u001b[1;33m\u001b[0m\u001b[0m\n\u001b[0;32m      7\u001b[0m     \u001b[1;31m#return a\u001b[0m\u001b[1;33m\u001b[0m\u001b[1;33m\u001b[0m\u001b[0m\n",
      "\u001b[1;31mNameError\u001b[0m: name 'update1' is not defined"
     ]
    }
   ],
   "source": [
    "SeleF(df)"
   ]
  },
  {
   "cell_type": "code",
   "execution_count": null,
   "metadata": {
    "collapsed": true
   },
   "outputs": [],
   "source": []
  }
 ],
 "metadata": {
  "kernelspec": {
   "display_name": "Python 3",
   "language": "python",
   "name": "python3"
  },
  "language_info": {
   "codemirror_mode": {
    "name": "ipython",
    "version": 3
   },
   "file_extension": ".py",
   "mimetype": "text/x-python",
   "name": "python",
   "nbconvert_exporter": "python",
   "pygments_lexer": "ipython3",
   "version": "3.5.0"
  }
 },
 "nbformat": 4,
 "nbformat_minor": 0
}
