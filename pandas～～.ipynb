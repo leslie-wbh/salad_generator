{
 "cells": [
  {
   "cell_type": "code",
   "execution_count": 4,
   "metadata": {
    "collapsed": true
   },
   "outputs": [],
   "source": [
    "import pandas as pd\n",
    "from pandas import DataFrame, Series"
   ]
  },
  {
   "cell_type": "code",
   "execution_count": 5,
   "metadata": {
    "collapsed": true
   },
   "outputs": [],
   "source": [
    "def split_columns(value, value_range, suffix = \"\"):\n",
    "    s = Series(0, index = value_range)\n",
    "    \n",
    "    for x in value.split(\"，\"):\n",
    "        s.loc[suffix + x] = 1\n",
    "    return s"
   ]
  },
  {
   "cell_type": "code",
   "execution_count": 6,
   "metadata": {
    "collapsed": false
   },
   "outputs": [
    {
     "ename": "NameError",
     "evalue": "name 'df' is not defined",
     "output_type": "error",
     "traceback": [
      "\u001b[1;31m---------------------------------------------------------------------------\u001b[0m",
      "\u001b[1;31mNameError\u001b[0m                                 Traceback (most recent call last)",
      "\u001b[1;32m<ipython-input-6-1a68f0ccecba>\u001b[0m in \u001b[0;36m<module>\u001b[1;34m()\u001b[0m\n\u001b[0;32m      2\u001b[0m \u001b[1;33m\u001b[0m\u001b[0m\n\u001b[0;32m      3\u001b[0m \u001b[0mvalue_range\u001b[0m \u001b[1;33m=\u001b[0m \u001b[1;33m[\u001b[0m\u001b[1;33m]\u001b[0m\u001b[1;33m\u001b[0m\u001b[0m\n\u001b[1;32m----> 4\u001b[1;33m \u001b[1;32mfor\u001b[0m \u001b[0mx\u001b[0m \u001b[1;32min\u001b[0m \u001b[0mlist\u001b[0m\u001b[1;33m(\u001b[0m\u001b[0mdf\u001b[0m\u001b[1;33m[\u001b[0m\u001b[1;34m'主要营养素'\u001b[0m\u001b[1;33m]\u001b[0m\u001b[1;33m.\u001b[0m\u001b[0mdrop_duplicates\u001b[0m\u001b[1;33m(\u001b[0m\u001b[1;33m)\u001b[0m\u001b[1;33m)\u001b[0m\u001b[1;33m:\u001b[0m\u001b[1;33m\u001b[0m\u001b[0m\n\u001b[0m\u001b[0;32m      5\u001b[0m     \u001b[0mvalue_range\u001b[0m\u001b[1;33m.\u001b[0m\u001b[0mextend\u001b[0m\u001b[1;33m(\u001b[0m\u001b[0mx\u001b[0m\u001b[1;33m.\u001b[0m\u001b[0msplit\u001b[0m\u001b[1;33m(\u001b[0m\u001b[1;34m'，'\u001b[0m\u001b[1;33m)\u001b[0m\u001b[1;33m)\u001b[0m\u001b[1;33m\u001b[0m\u001b[0m\n\u001b[0;32m      6\u001b[0m \u001b[0mvalue_range\u001b[0m \u001b[1;33m=\u001b[0m \u001b[0mSeries\u001b[0m\u001b[1;33m(\u001b[0m\u001b[0mvalue_range\u001b[0m\u001b[1;33m)\u001b[0m\u001b[1;33m.\u001b[0m\u001b[0mdrop_duplicates\u001b[0m\u001b[1;33m(\u001b[0m\u001b[1;33m)\u001b[0m\u001b[1;33m.\u001b[0m\u001b[0mtolist\u001b[0m\u001b[1;33m(\u001b[0m\u001b[1;33m)\u001b[0m\u001b[1;33m\u001b[0m\u001b[0m\n",
      "\u001b[1;31mNameError\u001b[0m: name 'df' is not defined"
     ]
    }
   ],
   "source": [
    "value = '碳水化合物，蛋白质'\n",
    "\n",
    "value_range = []\n",
    "for x in list(df['主要营养素'].drop_duplicates()):\n",
    "    value_range.extend(x.split('，'))\n",
    "value_range = Series(value_range).drop_duplicates().tolist()\n",
    "\n",
    "\n",
    "suffix = '营养_'"
   ]
  },
  {
   "cell_type": "code",
   "execution_count": 168,
   "metadata": {
    "collapsed": false
   },
   "outputs": [],
   "source": [
    "new_columns = [suffix+x for x in value_range]"
   ]
  },
  {
   "cell_type": "code",
   "execution_count": 152,
   "metadata": {
    "collapsed": true
   },
   "outputs": [],
   "source": [
    "for col in new_columns:\n",
    "    df[col] = 0"
   ]
  },
  {
   "cell_type": "code",
   "execution_count": 170,
   "metadata": {
    "collapsed": false
   },
   "outputs": [
    {
     "data": {
      "text/html": [
       "<div>\n",
       "<table border=\"1\" class=\"dataframe\">\n",
       "  <thead>\n",
       "    <tr style=\"text-align: right;\">\n",
       "      <th></th>\n",
       "      <th>食材</th>\n",
       "      <th>主要营养素</th>\n",
       "      <th>颜色</th>\n",
       "      <th>韧性</th>\n",
       "      <th>口味</th>\n",
       "      <th>种类</th>\n",
       "      <th>营养_纤维素</th>\n",
       "      <th>营养_蛋白质</th>\n",
       "      <th>营养_碳水化合物</th>\n",
       "      <th>营养_脂肪</th>\n",
       "    </tr>\n",
       "  </thead>\n",
       "  <tbody>\n",
       "    <tr>\n",
       "      <th>0</th>\n",
       "      <td>小番茄</td>\n",
       "      <td>纤维素</td>\n",
       "      <td>红</td>\n",
       "      <td>中</td>\n",
       "      <td>酸</td>\n",
       "      <td>蔬菜</td>\n",
       "      <td>1</td>\n",
       "      <td>0</td>\n",
       "      <td>0</td>\n",
       "      <td>0</td>\n",
       "    </tr>\n",
       "    <tr>\n",
       "      <th>1</th>\n",
       "      <td>生菜</td>\n",
       "      <td>纤维素</td>\n",
       "      <td>绿</td>\n",
       "      <td>低</td>\n",
       "      <td>NaN</td>\n",
       "      <td>蔬菜</td>\n",
       "      <td>1</td>\n",
       "      <td>0</td>\n",
       "      <td>0</td>\n",
       "      <td>0</td>\n",
       "    </tr>\n",
       "    <tr>\n",
       "      <th>2</th>\n",
       "      <td>卷心菜</td>\n",
       "      <td>纤维素</td>\n",
       "      <td>白</td>\n",
       "      <td>低</td>\n",
       "      <td>NaN</td>\n",
       "      <td>蔬菜</td>\n",
       "      <td>1</td>\n",
       "      <td>0</td>\n",
       "      <td>0</td>\n",
       "      <td>0</td>\n",
       "    </tr>\n",
       "    <tr>\n",
       "      <th>3</th>\n",
       "      <td>黄瓜</td>\n",
       "      <td>纤维素</td>\n",
       "      <td>绿</td>\n",
       "      <td>低</td>\n",
       "      <td>NaN</td>\n",
       "      <td>蔬菜</td>\n",
       "      <td>1</td>\n",
       "      <td>0</td>\n",
       "      <td>0</td>\n",
       "      <td>0</td>\n",
       "    </tr>\n",
       "    <tr>\n",
       "      <th>4</th>\n",
       "      <td>西蓝花</td>\n",
       "      <td>纤维素</td>\n",
       "      <td>绿</td>\n",
       "      <td>中</td>\n",
       "      <td>NaN</td>\n",
       "      <td>蔬菜</td>\n",
       "      <td>1</td>\n",
       "      <td>0</td>\n",
       "      <td>0</td>\n",
       "      <td>0</td>\n",
       "    </tr>\n",
       "  </tbody>\n",
       "</table>\n",
       "</div>"
      ],
      "text/plain": [
       "    食材 主要营养素 颜色 韧性   口味  种类  营养_纤维素  营养_蛋白质  营养_碳水化合物  营养_脂肪\n",
       "0  小番茄   纤维素  红  中    酸  蔬菜       1       0         0      0\n",
       "1   生菜   纤维素  绿  低  NaN  蔬菜       1       0         0      0\n",
       "2  卷心菜   纤维素  白  低  NaN  蔬菜       1       0         0      0\n",
       "3   黄瓜   纤维素  绿  低  NaN  蔬菜       1       0         0      0\n",
       "4  西蓝花   纤维素  绿  中  NaN  蔬菜       1       0         0      0"
      ]
     },
     "execution_count": 170,
     "metadata": {},
     "output_type": "execute_result"
    }
   ],
   "source": [
    "df[new_columns] = df['主要营养素'].head(5).apply(lambda x:split_columns(x, new_columns, suffix))"
   ]
  },
  {
   "cell_type": "code",
   "execution_count": 171,
   "metadata": {
    "collapsed": false
   },
   "outputs": [
    {
     "data": {
      "text/html": [
       "<div>\n",
       "<table border=\"1\" class=\"dataframe\">\n",
       "  <thead>\n",
       "    <tr style=\"text-align: right;\">\n",
       "      <th></th>\n",
       "      <th>食材</th>\n",
       "      <th>颜色</th>\n",
       "      <th>韧性</th>\n",
       "      <th>口味</th>\n",
       "      <th>种类</th>\n",
       "      <th>营养_纤维素</th>\n",
       "      <th>营养_蛋白质</th>\n",
       "      <th>营养_碳水化合物</th>\n",
       "      <th>营养_脂肪</th>\n",
       "    </tr>\n",
       "  </thead>\n",
       "  <tbody>\n",
       "    <tr>\n",
       "      <th>0</th>\n",
       "      <td>小番茄</td>\n",
       "      <td>红</td>\n",
       "      <td>中</td>\n",
       "      <td>酸</td>\n",
       "      <td>蔬菜</td>\n",
       "      <td>1</td>\n",
       "      <td>0</td>\n",
       "      <td>0</td>\n",
       "      <td>0</td>\n",
       "    </tr>\n",
       "    <tr>\n",
       "      <th>1</th>\n",
       "      <td>生菜</td>\n",
       "      <td>绿</td>\n",
       "      <td>低</td>\n",
       "      <td>NaN</td>\n",
       "      <td>蔬菜</td>\n",
       "      <td>1</td>\n",
       "      <td>0</td>\n",
       "      <td>0</td>\n",
       "      <td>0</td>\n",
       "    </tr>\n",
       "    <tr>\n",
       "      <th>2</th>\n",
       "      <td>卷心菜</td>\n",
       "      <td>白</td>\n",
       "      <td>低</td>\n",
       "      <td>NaN</td>\n",
       "      <td>蔬菜</td>\n",
       "      <td>1</td>\n",
       "      <td>0</td>\n",
       "      <td>0</td>\n",
       "      <td>0</td>\n",
       "    </tr>\n",
       "    <tr>\n",
       "      <th>3</th>\n",
       "      <td>黄瓜</td>\n",
       "      <td>绿</td>\n",
       "      <td>低</td>\n",
       "      <td>NaN</td>\n",
       "      <td>蔬菜</td>\n",
       "      <td>1</td>\n",
       "      <td>0</td>\n",
       "      <td>0</td>\n",
       "      <td>0</td>\n",
       "    </tr>\n",
       "    <tr>\n",
       "      <th>4</th>\n",
       "      <td>西蓝花</td>\n",
       "      <td>绿</td>\n",
       "      <td>中</td>\n",
       "      <td>NaN</td>\n",
       "      <td>蔬菜</td>\n",
       "      <td>1</td>\n",
       "      <td>0</td>\n",
       "      <td>0</td>\n",
       "      <td>0</td>\n",
       "    </tr>\n",
       "  </tbody>\n",
       "</table>\n",
       "</div>"
      ],
      "text/plain": [
       "    食材 颜色 韧性   口味  种类  营养_纤维素  营养_蛋白质  营养_碳水化合物  营养_脂肪\n",
       "0  小番茄  红  中    酸  蔬菜       1       0         0      0\n",
       "1   生菜  绿  低  NaN  蔬菜       1       0         0      0\n",
       "2  卷心菜  白  低  NaN  蔬菜       1       0         0      0\n",
       "3   黄瓜  绿  低  NaN  蔬菜       1       0         0      0\n",
       "4  西蓝花  绿  中  NaN  蔬菜       1       0         0      0"
      ]
     },
     "execution_count": 171,
     "metadata": {},
     "output_type": "execute_result"
    }
   ],
   "source": [
    "df = df.drop(['主要营养素'], axis=1)\n",
    "df.head()"
   ]
  },
  {
   "cell_type": "markdown",
   "metadata": {},
   "source": [
    "# DataFrame基本操作\n",
    "## 读取数据"
   ]
  },
  {
   "cell_type": "code",
   "execution_count": 7,
   "metadata": {
    "collapsed": true
   },
   "outputs": [],
   "source": [
    "df = pd.read_excel('Salad.xlsx')"
   ]
  },
  {
   "cell_type": "code",
   "execution_count": 7,
   "metadata": {
    "collapsed": false
   },
   "outputs": [
    {
     "data": {
      "text/html": [
       "<div>\n",
       "<table border=\"1\" class=\"dataframe\">\n",
       "  <thead>\n",
       "    <tr style=\"text-align: right;\">\n",
       "      <th></th>\n",
       "      <th>食材</th>\n",
       "      <th>主要营养素</th>\n",
       "      <th>颜色</th>\n",
       "      <th>韧性</th>\n",
       "      <th>口味</th>\n",
       "    </tr>\n",
       "  </thead>\n",
       "  <tbody>\n",
       "    <tr>\n",
       "      <th>0</th>\n",
       "      <td>小番茄</td>\n",
       "      <td>纤维素</td>\n",
       "      <td>红</td>\n",
       "      <td>中</td>\n",
       "      <td>酸</td>\n",
       "    </tr>\n",
       "    <tr>\n",
       "      <th>1</th>\n",
       "      <td>生菜</td>\n",
       "      <td>纤维素</td>\n",
       "      <td>绿</td>\n",
       "      <td>低</td>\n",
       "      <td>NaN</td>\n",
       "    </tr>\n",
       "    <tr>\n",
       "      <th>2</th>\n",
       "      <td>卷心菜</td>\n",
       "      <td>纤维素</td>\n",
       "      <td>白</td>\n",
       "      <td>低</td>\n",
       "      <td>NaN</td>\n",
       "    </tr>\n",
       "    <tr>\n",
       "      <th>3</th>\n",
       "      <td>黄瓜</td>\n",
       "      <td>纤维素</td>\n",
       "      <td>绿</td>\n",
       "      <td>低</td>\n",
       "      <td>NaN</td>\n",
       "    </tr>\n",
       "    <tr>\n",
       "      <th>4</th>\n",
       "      <td>西蓝花</td>\n",
       "      <td>纤维素</td>\n",
       "      <td>绿</td>\n",
       "      <td>中</td>\n",
       "      <td>NaN</td>\n",
       "    </tr>\n",
       "  </tbody>\n",
       "</table>\n",
       "</div>"
      ],
      "text/plain": [
       "    食材 主要营养素 颜色 韧性   口味\n",
       "0  小番茄   纤维素  红  中    酸\n",
       "1   生菜   纤维素  绿  低  NaN\n",
       "2  卷心菜   纤维素  白  低  NaN\n",
       "3   黄瓜   纤维素  绿  低  NaN\n",
       "4  西蓝花   纤维素  绿  中  NaN"
      ]
     },
     "execution_count": 7,
     "metadata": {},
     "output_type": "execute_result"
    }
   ],
   "source": [
    "df.head(5)"
   ]
  },
  {
   "cell_type": "markdown",
   "metadata": {},
   "source": [
    "## 选择"
   ]
  },
  {
   "cell_type": "markdown",
   "metadata": {},
   "source": [
    "### 选择行"
   ]
  },
  {
   "cell_type": "code",
   "execution_count": 19,
   "metadata": {
    "collapsed": false
   },
   "outputs": [
    {
     "data": {
      "text/html": [
       "<div>\n",
       "<table border=\"1\" class=\"dataframe\">\n",
       "  <thead>\n",
       "    <tr style=\"text-align: right;\">\n",
       "      <th></th>\n",
       "      <th>食材</th>\n",
       "      <th>主要营养素</th>\n",
       "      <th>颜色</th>\n",
       "      <th>韧性</th>\n",
       "      <th>口味</th>\n",
       "    </tr>\n",
       "  </thead>\n",
       "  <tbody>\n",
       "    <tr>\n",
       "      <th>1</th>\n",
       "      <td>生菜</td>\n",
       "      <td>纤维素</td>\n",
       "      <td>绿</td>\n",
       "      <td>低</td>\n",
       "      <td>NaN</td>\n",
       "    </tr>\n",
       "    <tr>\n",
       "      <th>3</th>\n",
       "      <td>黄瓜</td>\n",
       "      <td>纤维素</td>\n",
       "      <td>绿</td>\n",
       "      <td>低</td>\n",
       "      <td>NaN</td>\n",
       "    </tr>\n",
       "    <tr>\n",
       "      <th>5</th>\n",
       "      <td>茭白</td>\n",
       "      <td>纤维素</td>\n",
       "      <td>白</td>\n",
       "      <td>中</td>\n",
       "      <td>NaN</td>\n",
       "    </tr>\n",
       "  </tbody>\n",
       "</table>\n",
       "</div>"
      ],
      "text/plain": [
       "   食材 主要营养素 颜色 韧性   口味\n",
       "1  生菜   纤维素  绿  低  NaN\n",
       "3  黄瓜   纤维素  绿  低  NaN\n",
       "5  茭白   纤维素  白  中  NaN"
      ]
     },
     "execution_count": 19,
     "metadata": {},
     "output_type": "execute_result"
    }
   ],
   "source": [
    "df.loc[[1,3,5] ,:]"
   ]
  },
  {
   "cell_type": "code",
   "execution_count": 20,
   "metadata": {
    "collapsed": false
   },
   "outputs": [
    {
     "data": {
      "text/plain": [
       "食材       西蓝花\n",
       "主要营养素    纤维素\n",
       "颜色         绿\n",
       "韧性         中\n",
       "口味       NaN\n",
       "Name: 4, dtype: object"
      ]
     },
     "execution_count": 20,
     "metadata": {},
     "output_type": "execute_result"
    }
   ],
   "source": [
    "# 选择第5行\n",
    "df.iloc[4, :]"
   ]
  },
  {
   "cell_type": "code",
   "execution_count": 21,
   "metadata": {
    "collapsed": false
   },
   "outputs": [
    {
     "data": {
      "text/plain": [
       "食材       西蓝花\n",
       "主要营养素    纤维素\n",
       "颜色         绿\n",
       "韧性         中\n",
       "口味       NaN\n",
       "Name: 4, dtype: object"
      ]
     },
     "execution_count": 21,
     "metadata": {},
     "output_type": "execute_result"
    }
   ],
   "source": [
    "# 选择index = 4的行\n",
    "df.loc[4, :]"
   ]
  },
  {
   "cell_type": "markdown",
   "metadata": {},
   "source": [
    "### 选择列"
   ]
  },
  {
   "cell_type": "code",
   "execution_count": 27,
   "metadata": {
    "collapsed": false
   },
   "outputs": [
    {
     "data": {
      "text/html": [
       "<div>\n",
       "<table border=\"1\" class=\"dataframe\">\n",
       "  <thead>\n",
       "    <tr style=\"text-align: right;\">\n",
       "      <th></th>\n",
       "      <th>食材</th>\n",
       "      <th>颜色</th>\n",
       "    </tr>\n",
       "  </thead>\n",
       "  <tbody>\n",
       "    <tr>\n",
       "      <th>0</th>\n",
       "      <td>小番茄</td>\n",
       "      <td>红</td>\n",
       "    </tr>\n",
       "    <tr>\n",
       "      <th>1</th>\n",
       "      <td>生菜</td>\n",
       "      <td>绿</td>\n",
       "    </tr>\n",
       "    <tr>\n",
       "      <th>2</th>\n",
       "      <td>卷心菜</td>\n",
       "      <td>白</td>\n",
       "    </tr>\n",
       "    <tr>\n",
       "      <th>3</th>\n",
       "      <td>黄瓜</td>\n",
       "      <td>绿</td>\n",
       "    </tr>\n",
       "    <tr>\n",
       "      <th>4</th>\n",
       "      <td>西蓝花</td>\n",
       "      <td>绿</td>\n",
       "    </tr>\n",
       "  </tbody>\n",
       "</table>\n",
       "</div>"
      ],
      "text/plain": [
       "    食材 颜色\n",
       "0  小番茄  红\n",
       "1   生菜  绿\n",
       "2  卷心菜  白\n",
       "3   黄瓜  绿\n",
       "4  西蓝花  绿"
      ]
     },
     "execution_count": 27,
     "metadata": {},
     "output_type": "execute_result"
    }
   ],
   "source": [
    "df.loc[:, ['食材','颜色']].head()"
   ]
  },
  {
   "cell_type": "code",
   "execution_count": 29,
   "metadata": {
    "collapsed": false
   },
   "outputs": [
    {
     "data": {
      "text/html": [
       "<div>\n",
       "<table border=\"1\" class=\"dataframe\">\n",
       "  <thead>\n",
       "    <tr style=\"text-align: right;\">\n",
       "      <th></th>\n",
       "      <th>食材</th>\n",
       "      <th>颜色</th>\n",
       "    </tr>\n",
       "  </thead>\n",
       "  <tbody>\n",
       "    <tr>\n",
       "      <th>0</th>\n",
       "      <td>小番茄</td>\n",
       "      <td>红</td>\n",
       "    </tr>\n",
       "    <tr>\n",
       "      <th>1</th>\n",
       "      <td>生菜</td>\n",
       "      <td>绿</td>\n",
       "    </tr>\n",
       "    <tr>\n",
       "      <th>2</th>\n",
       "      <td>卷心菜</td>\n",
       "      <td>白</td>\n",
       "    </tr>\n",
       "    <tr>\n",
       "      <th>3</th>\n",
       "      <td>黄瓜</td>\n",
       "      <td>绿</td>\n",
       "    </tr>\n",
       "    <tr>\n",
       "      <th>4</th>\n",
       "      <td>西蓝花</td>\n",
       "      <td>绿</td>\n",
       "    </tr>\n",
       "  </tbody>\n",
       "</table>\n",
       "</div>"
      ],
      "text/plain": [
       "    食材 颜色\n",
       "0  小番茄  红\n",
       "1   生菜  绿\n",
       "2  卷心菜  白\n",
       "3   黄瓜  绿\n",
       "4  西蓝花  绿"
      ]
     },
     "execution_count": 29,
     "metadata": {},
     "output_type": "execute_result"
    }
   ],
   "source": [
    "df.iloc[:, [0,2]].head()"
   ]
  },
  {
   "cell_type": "markdown",
   "metadata": {},
   "source": [
    "### 同时选择"
   ]
  },
  {
   "cell_type": "code",
   "execution_count": 30,
   "metadata": {
    "collapsed": false
   },
   "outputs": [
    {
     "data": {
      "text/html": [
       "<div>\n",
       "<table border=\"1\" class=\"dataframe\">\n",
       "  <thead>\n",
       "    <tr style=\"text-align: right;\">\n",
       "      <th></th>\n",
       "      <th>食材</th>\n",
       "      <th>韧性</th>\n",
       "    </tr>\n",
       "  </thead>\n",
       "  <tbody>\n",
       "    <tr>\n",
       "      <th>0</th>\n",
       "      <td>小番茄</td>\n",
       "      <td>中</td>\n",
       "    </tr>\n",
       "    <tr>\n",
       "      <th>2</th>\n",
       "      <td>卷心菜</td>\n",
       "      <td>低</td>\n",
       "    </tr>\n",
       "    <tr>\n",
       "      <th>4</th>\n",
       "      <td>西蓝花</td>\n",
       "      <td>中</td>\n",
       "    </tr>\n",
       "  </tbody>\n",
       "</table>\n",
       "</div>"
      ],
      "text/plain": [
       "    食材 韧性\n",
       "0  小番茄  中\n",
       "2  卷心菜  低\n",
       "4  西蓝花  中"
      ]
     },
     "execution_count": 30,
     "metadata": {},
     "output_type": "execute_result"
    }
   ],
   "source": [
    "df.loc[[0,2,4],['食材','韧性']]"
   ]
  },
  {
   "cell_type": "code",
   "execution_count": 33,
   "metadata": {
    "collapsed": false
   },
   "outputs": [
    {
     "data": {
      "text/html": [
       "<div>\n",
       "<table border=\"1\" class=\"dataframe\">\n",
       "  <thead>\n",
       "    <tr style=\"text-align: right;\">\n",
       "      <th></th>\n",
       "      <th>食材</th>\n",
       "      <th>主要营养素</th>\n",
       "      <th>颜色</th>\n",
       "      <th>韧性</th>\n",
       "      <th>口味</th>\n",
       "    </tr>\n",
       "  </thead>\n",
       "  <tbody>\n",
       "    <tr>\n",
       "      <th>1</th>\n",
       "      <td>生菜</td>\n",
       "      <td>纤维素</td>\n",
       "      <td>绿</td>\n",
       "      <td>低</td>\n",
       "      <td>NaN</td>\n",
       "    </tr>\n",
       "    <tr>\n",
       "      <th>3</th>\n",
       "      <td>黄瓜</td>\n",
       "      <td>纤维素</td>\n",
       "      <td>绿</td>\n",
       "      <td>低</td>\n",
       "      <td>NaN</td>\n",
       "    </tr>\n",
       "    <tr>\n",
       "      <th>4</th>\n",
       "      <td>西蓝花</td>\n",
       "      <td>纤维素</td>\n",
       "      <td>绿</td>\n",
       "      <td>中</td>\n",
       "      <td>NaN</td>\n",
       "    </tr>\n",
       "    <tr>\n",
       "      <th>7</th>\n",
       "      <td>芦笋</td>\n",
       "      <td>纤维素</td>\n",
       "      <td>绿</td>\n",
       "      <td>中</td>\n",
       "      <td>NaN</td>\n",
       "    </tr>\n",
       "    <tr>\n",
       "      <th>32</th>\n",
       "      <td>牛油果</td>\n",
       "      <td>脂肪</td>\n",
       "      <td>绿</td>\n",
       "      <td>中</td>\n",
       "      <td>NaN</td>\n",
       "    </tr>\n",
       "  </tbody>\n",
       "</table>\n",
       "</div>"
      ],
      "text/plain": [
       "     食材 主要营养素 颜色 韧性   口味\n",
       "1    生菜   纤维素  绿  低  NaN\n",
       "3    黄瓜   纤维素  绿  低  NaN\n",
       "4   西蓝花   纤维素  绿  中  NaN\n",
       "7    芦笋   纤维素  绿  中  NaN\n",
       "32  牛油果    脂肪  绿  中  NaN"
      ]
     },
     "execution_count": 33,
     "metadata": {},
     "output_type": "execute_result"
    }
   ],
   "source": [
    "### 选择满足条件的行\n",
    "df.loc[df['颜色'] == '绿',:]"
   ]
  },
  {
   "cell_type": "code",
   "execution_count": 34,
   "metadata": {
    "collapsed": false
   },
   "outputs": [
    {
     "data": {
      "text/html": [
       "<div>\n",
       "<table border=\"1\" class=\"dataframe\">\n",
       "  <thead>\n",
       "    <tr style=\"text-align: right;\">\n",
       "      <th></th>\n",
       "      <th>食材</th>\n",
       "      <th>主要营养素</th>\n",
       "      <th>颜色</th>\n",
       "      <th>韧性</th>\n",
       "      <th>口味</th>\n",
       "    </tr>\n",
       "  </thead>\n",
       "  <tbody>\n",
       "    <tr>\n",
       "      <th>1</th>\n",
       "      <td>生菜</td>\n",
       "      <td>纤维素</td>\n",
       "      <td>绿</td>\n",
       "      <td>低</td>\n",
       "      <td>NaN</td>\n",
       "    </tr>\n",
       "    <tr>\n",
       "      <th>3</th>\n",
       "      <td>黄瓜</td>\n",
       "      <td>纤维素</td>\n",
       "      <td>绿</td>\n",
       "      <td>低</td>\n",
       "      <td>NaN</td>\n",
       "    </tr>\n",
       "    <tr>\n",
       "      <th>4</th>\n",
       "      <td>西蓝花</td>\n",
       "      <td>纤维素</td>\n",
       "      <td>绿</td>\n",
       "      <td>中</td>\n",
       "      <td>NaN</td>\n",
       "    </tr>\n",
       "    <tr>\n",
       "      <th>7</th>\n",
       "      <td>芦笋</td>\n",
       "      <td>纤维素</td>\n",
       "      <td>绿</td>\n",
       "      <td>中</td>\n",
       "      <td>NaN</td>\n",
       "    </tr>\n",
       "    <tr>\n",
       "      <th>32</th>\n",
       "      <td>牛油果</td>\n",
       "      <td>脂肪</td>\n",
       "      <td>绿</td>\n",
       "      <td>中</td>\n",
       "      <td>NaN</td>\n",
       "    </tr>\n",
       "  </tbody>\n",
       "</table>\n",
       "</div>"
      ],
      "text/plain": [
       "     食材 主要营养素 颜色 韧性   口味\n",
       "1    生菜   纤维素  绿  低  NaN\n",
       "3    黄瓜   纤维素  绿  低  NaN\n",
       "4   西蓝花   纤维素  绿  中  NaN\n",
       "7    芦笋   纤维素  绿  中  NaN\n",
       "32  牛油果    脂肪  绿  中  NaN"
      ]
     },
     "execution_count": 34,
     "metadata": {},
     "output_type": "execute_result"
    }
   ],
   "source": [
    "df[df['颜色'] == '绿']"
   ]
  },
  {
   "cell_type": "markdown",
   "metadata": {},
   "source": [
    "### 添加列"
   ]
  },
  {
   "cell_type": "code",
   "execution_count": 66,
   "metadata": {
    "collapsed": true
   },
   "outputs": [],
   "source": [
    "df['分值'] = 10"
   ]
  },
  {
   "cell_type": "markdown",
   "metadata": {},
   "source": [
    "### 删除行"
   ]
  },
  {
   "cell_type": "code",
   "execution_count": 67,
   "metadata": {
    "collapsed": false
   },
   "outputs": [
    {
     "data": {
      "text/html": [
       "<div>\n",
       "<table border=\"1\" class=\"dataframe\">\n",
       "  <thead>\n",
       "    <tr style=\"text-align: right;\">\n",
       "      <th></th>\n",
       "      <th>食材</th>\n",
       "      <th>主要营养素</th>\n",
       "      <th>颜色</th>\n",
       "      <th>韧性</th>\n",
       "      <th>口味</th>\n",
       "      <th>分值</th>\n",
       "    </tr>\n",
       "  </thead>\n",
       "  <tbody>\n",
       "    <tr>\n",
       "      <th>1</th>\n",
       "      <td>生菜</td>\n",
       "      <td>纤维素</td>\n",
       "      <td>绿</td>\n",
       "      <td>低</td>\n",
       "      <td>NaN</td>\n",
       "      <td>10</td>\n",
       "    </tr>\n",
       "    <tr>\n",
       "      <th>2</th>\n",
       "      <td>卷心菜</td>\n",
       "      <td>纤维素</td>\n",
       "      <td>白</td>\n",
       "      <td>低</td>\n",
       "      <td>NaN</td>\n",
       "      <td>10</td>\n",
       "    </tr>\n",
       "    <tr>\n",
       "      <th>3</th>\n",
       "      <td>黄瓜</td>\n",
       "      <td>纤维素</td>\n",
       "      <td>绿</td>\n",
       "      <td>低</td>\n",
       "      <td>NaN</td>\n",
       "      <td>10</td>\n",
       "    </tr>\n",
       "    <tr>\n",
       "      <th>4</th>\n",
       "      <td>西蓝花</td>\n",
       "      <td>纤维素</td>\n",
       "      <td>绿</td>\n",
       "      <td>中</td>\n",
       "      <td>NaN</td>\n",
       "      <td>10</td>\n",
       "    </tr>\n",
       "    <tr>\n",
       "      <th>5</th>\n",
       "      <td>茭白</td>\n",
       "      <td>纤维素</td>\n",
       "      <td>白</td>\n",
       "      <td>中</td>\n",
       "      <td>NaN</td>\n",
       "      <td>10</td>\n",
       "    </tr>\n",
       "  </tbody>\n",
       "</table>\n",
       "</div>"
      ],
      "text/plain": [
       "    食材 主要营养素 颜色 韧性   口味  分值\n",
       "1   生菜   纤维素  绿  低  NaN  10\n",
       "2  卷心菜   纤维素  白  低  NaN  10\n",
       "3   黄瓜   纤维素  绿  低  NaN  10\n",
       "4  西蓝花   纤维素  绿  中  NaN  10\n",
       "5   茭白   纤维素  白  中  NaN  10"
      ]
     },
     "execution_count": 67,
     "metadata": {},
     "output_type": "execute_result"
    }
   ],
   "source": [
    "df2 = df[df['食材']!='小番茄']\n",
    "df2.head()"
   ]
  },
  {
   "cell_type": "code",
   "execution_count": 10,
   "metadata": {
    "collapsed": false
   },
   "outputs": [
    {
     "data": {
      "text/html": [
       "<div>\n",
       "<table border=\"1\" class=\"dataframe\">\n",
       "  <thead>\n",
       "    <tr style=\"text-align: right;\">\n",
       "      <th></th>\n",
       "      <th>食材</th>\n",
       "      <th>营养素</th>\n",
       "      <th>颜色</th>\n",
       "      <th>韧性</th>\n",
       "      <th>口味</th>\n",
       "      <th>种类</th>\n",
       "      <th>分数</th>\n",
       "    </tr>\n",
       "  </thead>\n",
       "  <tbody>\n",
       "    <tr>\n",
       "      <th>1</th>\n",
       "      <td>生菜</td>\n",
       "      <td>纤维素</td>\n",
       "      <td>绿</td>\n",
       "      <td>低</td>\n",
       "      <td>NaN</td>\n",
       "      <td>蔬菜</td>\n",
       "      <td>10</td>\n",
       "    </tr>\n",
       "    <tr>\n",
       "      <th>2</th>\n",
       "      <td>卷心菜</td>\n",
       "      <td>纤维素</td>\n",
       "      <td>白</td>\n",
       "      <td>低</td>\n",
       "      <td>NaN</td>\n",
       "      <td>蔬菜</td>\n",
       "      <td>10</td>\n",
       "    </tr>\n",
       "    <tr>\n",
       "      <th>3</th>\n",
       "      <td>黄瓜</td>\n",
       "      <td>纤维素</td>\n",
       "      <td>绿</td>\n",
       "      <td>低</td>\n",
       "      <td>NaN</td>\n",
       "      <td>蔬菜</td>\n",
       "      <td>10</td>\n",
       "    </tr>\n",
       "    <tr>\n",
       "      <th>4</th>\n",
       "      <td>西蓝花</td>\n",
       "      <td>纤维素</td>\n",
       "      <td>绿</td>\n",
       "      <td>中</td>\n",
       "      <td>NaN</td>\n",
       "      <td>蔬菜</td>\n",
       "      <td>10</td>\n",
       "    </tr>\n",
       "    <tr>\n",
       "      <th>5</th>\n",
       "      <td>茭白</td>\n",
       "      <td>纤维素</td>\n",
       "      <td>白</td>\n",
       "      <td>中</td>\n",
       "      <td>NaN</td>\n",
       "      <td>蔬菜</td>\n",
       "      <td>10</td>\n",
       "    </tr>\n",
       "  </tbody>\n",
       "</table>\n",
       "</div>"
      ],
      "text/plain": [
       "    食材  营养素 颜色 韧性   口味  种类  分数\n",
       "1   生菜  纤维素  绿  低  NaN  蔬菜  10\n",
       "2  卷心菜  纤维素  白  低  NaN  蔬菜  10\n",
       "3   黄瓜  纤维素  绿  低  NaN  蔬菜  10\n",
       "4  西蓝花  纤维素  绿  中  NaN  蔬菜  10\n",
       "5   茭白  纤维素  白  中  NaN  蔬菜  10"
      ]
     },
     "execution_count": 10,
     "metadata": {},
     "output_type": "execute_result"
    }
   ],
   "source": [
    "df3 = df.drop([0])\n",
    "df3.head()"
   ]
  },
  {
   "cell_type": "code",
   "execution_count": 11,
   "metadata": {
    "collapsed": false
   },
   "outputs": [
    {
     "data": {
      "text/html": [
       "<div>\n",
       "<table border=\"1\" class=\"dataframe\">\n",
       "  <thead>\n",
       "    <tr style=\"text-align: right;\">\n",
       "      <th></th>\n",
       "      <th>食材</th>\n",
       "      <th>营养素</th>\n",
       "      <th>颜色</th>\n",
       "      <th>韧性</th>\n",
       "      <th>口味</th>\n",
       "      <th>种类</th>\n",
       "      <th>分数</th>\n",
       "    </tr>\n",
       "  </thead>\n",
       "  <tbody>\n",
       "    <tr>\n",
       "      <th>2</th>\n",
       "      <td>卷心菜</td>\n",
       "      <td>纤维素</td>\n",
       "      <td>白</td>\n",
       "      <td>低</td>\n",
       "      <td>NaN</td>\n",
       "      <td>蔬菜</td>\n",
       "      <td>10</td>\n",
       "    </tr>\n",
       "    <tr>\n",
       "      <th>3</th>\n",
       "      <td>黄瓜</td>\n",
       "      <td>纤维素</td>\n",
       "      <td>绿</td>\n",
       "      <td>低</td>\n",
       "      <td>NaN</td>\n",
       "      <td>蔬菜</td>\n",
       "      <td>10</td>\n",
       "    </tr>\n",
       "    <tr>\n",
       "      <th>4</th>\n",
       "      <td>西蓝花</td>\n",
       "      <td>纤维素</td>\n",
       "      <td>绿</td>\n",
       "      <td>中</td>\n",
       "      <td>NaN</td>\n",
       "      <td>蔬菜</td>\n",
       "      <td>10</td>\n",
       "    </tr>\n",
       "    <tr>\n",
       "      <th>5</th>\n",
       "      <td>茭白</td>\n",
       "      <td>纤维素</td>\n",
       "      <td>白</td>\n",
       "      <td>中</td>\n",
       "      <td>NaN</td>\n",
       "      <td>蔬菜</td>\n",
       "      <td>10</td>\n",
       "    </tr>\n",
       "    <tr>\n",
       "      <th>6</th>\n",
       "      <td>竹笋</td>\n",
       "      <td>纤维素</td>\n",
       "      <td>白</td>\n",
       "      <td>中</td>\n",
       "      <td>NaN</td>\n",
       "      <td>蔬菜</td>\n",
       "      <td>10</td>\n",
       "    </tr>\n",
       "  </tbody>\n",
       "</table>\n",
       "</div>"
      ],
      "text/plain": [
       "    食材  营养素 颜色 韧性   口味  种类  分数\n",
       "2  卷心菜  纤维素  白  低  NaN  蔬菜  10\n",
       "3   黄瓜  纤维素  绿  低  NaN  蔬菜  10\n",
       "4  西蓝花  纤维素  绿  中  NaN  蔬菜  10\n",
       "5   茭白  纤维素  白  中  NaN  蔬菜  10\n",
       "6   竹笋  纤维素  白  中  NaN  蔬菜  10"
      ]
     },
     "execution_count": 11,
     "metadata": {},
     "output_type": "execute_result"
    }
   ],
   "source": [
    "df3 = df3.drop([1])\n",
    "df3.head()"
   ]
  },
  {
   "cell_type": "markdown",
   "metadata": {},
   "source": [
    "### 修改"
   ]
  },
  {
   "cell_type": "code",
   "execution_count": 69,
   "metadata": {
    "collapsed": false
   },
   "outputs": [
    {
     "data": {
      "text/html": [
       "<div>\n",
       "<table border=\"1\" class=\"dataframe\">\n",
       "  <thead>\n",
       "    <tr style=\"text-align: right;\">\n",
       "      <th></th>\n",
       "      <th>食材</th>\n",
       "      <th>主要营养素</th>\n",
       "      <th>颜色</th>\n",
       "      <th>韧性</th>\n",
       "      <th>口味</th>\n",
       "      <th>分值</th>\n",
       "    </tr>\n",
       "  </thead>\n",
       "  <tbody>\n",
       "    <tr>\n",
       "      <th>0</th>\n",
       "      <td>小番茄</td>\n",
       "      <td>纤维素</td>\n",
       "      <td>红</td>\n",
       "      <td>中</td>\n",
       "      <td>酸</td>\n",
       "      <td>9</td>\n",
       "    </tr>\n",
       "    <tr>\n",
       "      <th>1</th>\n",
       "      <td>生菜</td>\n",
       "      <td>纤维素</td>\n",
       "      <td>绿</td>\n",
       "      <td>低</td>\n",
       "      <td>NaN</td>\n",
       "      <td>10</td>\n",
       "    </tr>\n",
       "    <tr>\n",
       "      <th>2</th>\n",
       "      <td>卷心菜</td>\n",
       "      <td>纤维素</td>\n",
       "      <td>白</td>\n",
       "      <td>低</td>\n",
       "      <td>NaN</td>\n",
       "      <td>10</td>\n",
       "    </tr>\n",
       "    <tr>\n",
       "      <th>3</th>\n",
       "      <td>黄瓜</td>\n",
       "      <td>纤维素</td>\n",
       "      <td>绿</td>\n",
       "      <td>低</td>\n",
       "      <td>NaN</td>\n",
       "      <td>10</td>\n",
       "    </tr>\n",
       "    <tr>\n",
       "      <th>4</th>\n",
       "      <td>西蓝花</td>\n",
       "      <td>纤维素</td>\n",
       "      <td>绿</td>\n",
       "      <td>中</td>\n",
       "      <td>NaN</td>\n",
       "      <td>10</td>\n",
       "    </tr>\n",
       "  </tbody>\n",
       "</table>\n",
       "</div>"
      ],
      "text/plain": [
       "    食材 主要营养素 颜色 韧性   口味  分值\n",
       "0  小番茄   纤维素  红  中    酸   9\n",
       "1   生菜   纤维素  绿  低  NaN  10\n",
       "2  卷心菜   纤维素  白  低  NaN  10\n",
       "3   黄瓜   纤维素  绿  低  NaN  10\n",
       "4  西蓝花   纤维素  绿  中  NaN  10"
      ]
     },
     "execution_count": 69,
     "metadata": {},
     "output_type": "execute_result"
    }
   ],
   "source": [
    "df.loc[df['颜色']=='红','分值'] = df.loc[df['颜色']=='红','分值']-1\n",
    "df.head()"
   ]
  },
  {
   "cell_type": "markdown",
   "metadata": {},
   "source": [
    "### 排序"
   ]
  },
  {
   "cell_type": "code",
   "execution_count": 72,
   "metadata": {
    "collapsed": false
   },
   "outputs": [
    {
     "data": {
      "text/html": [
       "<div>\n",
       "<table border=\"1\" class=\"dataframe\">\n",
       "  <thead>\n",
       "    <tr style=\"text-align: right;\">\n",
       "      <th></th>\n",
       "      <th>食材</th>\n",
       "      <th>主要营养素</th>\n",
       "      <th>颜色</th>\n",
       "      <th>韧性</th>\n",
       "      <th>口味</th>\n",
       "      <th>分值</th>\n",
       "    </tr>\n",
       "  </thead>\n",
       "  <tbody>\n",
       "    <tr>\n",
       "      <th>22</th>\n",
       "      <td>甜玉米</td>\n",
       "      <td>碳水化合物</td>\n",
       "      <td>黄</td>\n",
       "      <td>中</td>\n",
       "      <td>甜</td>\n",
       "      <td>10</td>\n",
       "    </tr>\n",
       "    <tr>\n",
       "      <th>19</th>\n",
       "      <td>金枪鱼罐头(泉水浸泡)</td>\n",
       "      <td>蛋白质</td>\n",
       "      <td>白</td>\n",
       "      <td>高</td>\n",
       "      <td>NaN</td>\n",
       "      <td>10</td>\n",
       "    </tr>\n",
       "    <tr>\n",
       "      <th>21</th>\n",
       "      <td>香肠(切丁)</td>\n",
       "      <td>蛋白质</td>\n",
       "      <td>红</td>\n",
       "      <td>高</td>\n",
       "      <td>咸，香</td>\n",
       "      <td>9</td>\n",
       "    </tr>\n",
       "    <tr>\n",
       "      <th>20</th>\n",
       "      <td>煎培根(切丁)</td>\n",
       "      <td>蛋白质</td>\n",
       "      <td>红</td>\n",
       "      <td>高</td>\n",
       "      <td>咸，香</td>\n",
       "      <td>9</td>\n",
       "    </tr>\n",
       "    <tr>\n",
       "      <th>0</th>\n",
       "      <td>小番茄</td>\n",
       "      <td>纤维素</td>\n",
       "      <td>红</td>\n",
       "      <td>中</td>\n",
       "      <td>酸</td>\n",
       "      <td>9</td>\n",
       "    </tr>\n",
       "  </tbody>\n",
       "</table>\n",
       "</div>"
      ],
      "text/plain": [
       "             食材  主要营养素 颜色 韧性   口味  分值\n",
       "22          甜玉米  碳水化合物  黄  中    甜  10\n",
       "19  金枪鱼罐头(泉水浸泡)    蛋白质  白  高  NaN  10\n",
       "21       香肠(切丁)    蛋白质  红  高  咸，香   9\n",
       "20      煎培根(切丁)    蛋白质  红  高  咸，香   9\n",
       "0           小番茄    纤维素  红  中    酸   9"
      ]
     },
     "execution_count": 72,
     "metadata": {},
     "output_type": "execute_result"
    }
   ],
   "source": [
    "df = df.sort_values(by = '分值', ascending = False)\n",
    "df.tail()"
   ]
  },
  {
   "cell_type": "markdown",
   "metadata": {},
   "source": [
    "### 随机行"
   ]
  },
  {
   "cell_type": "code",
   "execution_count": 76,
   "metadata": {
    "collapsed": false
   },
   "outputs": [],
   "source": [
    "sub_df = df[df['分值']==df['分值'].max()]"
   ]
  },
  {
   "cell_type": "code",
   "execution_count": 103,
   "metadata": {
    "collapsed": false
   },
   "outputs": [
    {
     "data": {
      "text/html": [
       "<div>\n",
       "<table border=\"1\" class=\"dataframe\">\n",
       "  <thead>\n",
       "    <tr style=\"text-align: right;\">\n",
       "      <th></th>\n",
       "      <th>食材</th>\n",
       "      <th>主要营养素</th>\n",
       "      <th>颜色</th>\n",
       "      <th>韧性</th>\n",
       "      <th>口味</th>\n",
       "      <th>分值</th>\n",
       "    </tr>\n",
       "  </thead>\n",
       "  <tbody>\n",
       "    <tr>\n",
       "      <th>13</th>\n",
       "      <td>芒果</td>\n",
       "      <td>纤维素</td>\n",
       "      <td>黄色</td>\n",
       "      <td>中</td>\n",
       "      <td>甜</td>\n",
       "      <td>10</td>\n",
       "    </tr>\n",
       "  </tbody>\n",
       "</table>\n",
       "</div>"
      ],
      "text/plain": [
       "    食材 主要营养素  颜色 韧性 口味  分值\n",
       "13  芒果   纤维素  黄色  中  甜  10"
      ]
     },
     "execution_count": 103,
     "metadata": {},
     "output_type": "execute_result"
    }
   ],
   "source": [
    "sub_df.sample(n=1)"
   ]
  },
  {
   "cell_type": "code",
   "execution_count": null,
   "metadata": {
    "collapsed": true
   },
   "outputs": [],
   "source": []
  }
 ],
 "metadata": {
  "kernelspec": {
   "display_name": "Python 3",
   "language": "python",
   "name": "python3"
  },
  "language_info": {
   "codemirror_mode": {
    "name": "ipython",
    "version": 3
   },
   "file_extension": ".py",
   "mimetype": "text/x-python",
   "name": "python",
   "nbconvert_exporter": "python",
   "pygments_lexer": "ipython3",
   "version": "3.5.0"
  }
 },
 "nbformat": 4,
 "nbformat_minor": 0
}
